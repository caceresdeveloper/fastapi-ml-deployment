{
 "cells": [
  {
   "cell_type": "markdown",
   "metadata": {},
   "source": [
    "Para la implementeacion de la Api se tiene en cuenta la siguiente estructura del proyecto "
   ]
  },
  {
   "cell_type": "markdown",
   "metadata": {},
   "source": [
    "En este proyecto, se está desarrollando un flujo completo de despliegue de un modelo de clasificación como un servicio web utilizando FastAPI. Este proceso permite exponer un modelo de Machine Learning entrenado para que pueda ser consumido por aplicaciones externas a través de una API REST"
   ]
  },
  {
   "cell_type": "markdown",
   "metadata": {},
   "source": [
    "📂 fastapi-ml-deployment\n",
    "│── 📂 app\n",
    "│   ├── model.pkl                 # Modelo entrenado guardado\n",
    "│   ├── app.py                     # Código de la API con FastAPI\n",
    "│── notebook.ipynb                 # Notebook de Google Colab documentando el proceso\n",
    "│── requirements.txt                # Librerías necesarias\n",
    "│── README.md                       # Instrucciones del proyecto"
   ]
  },
  {
   "cell_type": "markdown",
   "metadata": {},
   "source": [
    "![alt text](image.png)"
   ]
  },
  {
   "cell_type": "markdown",
   "metadata": {},
   "source": [
    "Este repositorio se encuentra subido dentro de Github"
   ]
  },
  {
   "cell_type": "markdown",
   "metadata": {},
   "source": [
    "** Se procede a realizar el entrenamiento del modelo **"
   ]
  },
  {
   "cell_type": "code",
   "execution_count": null,
   "metadata": {
    "vscode": {
     "languageId": "plaintext"
    }
   },
   "outputs": [],
   "source": [
    "import pandas as pd\n",
    "import pickle\n",
    "from sklearn.ensemble import RandomForestClassifier\n",
    "from sklearn.model_selection import train_test_split\n",
    "from sklearn.metrics import accuracy_score\n",
    "\n",
    "# Cargar dataset (reemplaza con tu dataset real si es necesario)\n",
    "df = pd.read_csv(\"https://raw.githubusercontent.com/jbrownlee/Datasets/master/pima-indians-diabetes.data.csv\", header=None)\n",
    "X = df.iloc[:, :-1]\n",
    "y = df.iloc[:, -1]\n",
    "\n",
    "# Dividir datos en entrenamiento y prueba\n",
    "X_train, X_test, y_train, y_test = train_test_split(X, y, test_size=0.2, random_state=42)\n",
    "\n",
    "# Entrenar modelo de clasificación\n",
    "modelo = RandomForestClassifier(n_estimators=100, random_state=42)\n",
    "modelo.fit(X_train, y_train)\n",
    "\n",
    "# Evaluar modelo\n",
    "y_pred = modelo.predict(X_test)\n",
    "accuracy = accuracy_score(y_test, y_pred)\n",
    "print(f\"Accuracy: {accuracy:.4f}\")\n",
    "\n",
    "# Guardar modelo en un archivo\n",
    "with open(\"model.pkl\", \"wb\") as f:\n",
    "    pickle.dump(modelo, f)"
   ]
  },
  {
   "cell_type": "markdown",
   "metadata": {},
   "source": [
    "![alt text](image-1.png)"
   ]
  },
  {
   "cell_type": "markdown",
   "metadata": {},
   "source": [
    "Crear la API con FastAPI Logging y Monitoreo"
   ]
  },
  {
   "cell_type": "code",
   "execution_count": null,
   "metadata": {
    "vscode": {
     "languageId": "plaintext"
    }
   },
   "outputs": [],
   "source": [
    "import os\n",
    "from fastapi import FastAPI\n",
    "import pickle\n",
    "import numpy as np\n",
    "from pydantic import BaseModel\n",
    "import logging\n",
    "\n",
    "# Configurar logging\n",
    "logging.basicConfig(level=logging.INFO)\n",
    "\n",
    "# Obtener la ruta absoluta del directorio actual\n",
    "BASE_DIR = os.path.dirname(os.path.abspath(__file__))\n",
    "\n",
    "# Cargar el modelo desde la carpeta correcta\n",
    "model_path = os.path.join(BASE_DIR, \"model.pkl\")\n",
    "\n",
    "with open(model_path, \"rb\") as f:\n",
    "    modelo = pickle.load(f)\n",
    "\n",
    "# Inicializar FastAPI\n",
    "app = FastAPI()\n",
    "\n",
    "# Definir esquema de entrada\n",
    "class InputData(BaseModel):\n",
    "    features: list\n",
    "\n",
    "# Endpoint para predicción\n",
    "@app.post(\"/predict/\")\n",
    "def predict(data: InputData):\n",
    "    X_new = np.array(data.features).reshape(1, -1)\n",
    "    prediction = modelo.predict(X_new)\n",
    "    \n",
    "    # Registrar la solicitud y respuesta\n",
    "    logging.info(f\"Entrada: {data.features}, Predicción: {prediction[0]}\")\n",
    "    \n",
    "    return {\"prediction\": int(prediction[0])}"
   ]
  },
  {
   "cell_type": "markdown",
   "metadata": {},
   "source": [
    "![alt text](image-2.png)"
   ]
  },
  {
   "cell_type": "markdown",
   "metadata": {},
   "source": [
    "Ejecutar la API Localmente"
   ]
  },
  {
   "cell_type": "markdown",
   "metadata": {},
   "source": [
    "uvicorn app.app:app --reload"
   ]
  },
  {
   "cell_type": "markdown",
   "metadata": {},
   "source": [
    "![alt text](image-3.png)"
   ]
  },
  {
   "cell_type": "markdown",
   "metadata": {},
   "source": [
    "documentación interactiva en"
   ]
  },
  {
   "cell_type": "code",
   "execution_count": null,
   "metadata": {
    "vscode": {
     "languageId": "plaintext"
    }
   },
   "outputs": [],
   "source": [
    "http://127.0.0.1:8000/docs"
   ]
  },
  {
   "cell_type": "markdown",
   "metadata": {},
   "source": [
    "![alt text](image-4.png)"
   ]
  },
  {
   "cell_type": "markdown",
   "metadata": {},
   "source": [
    "Ejecucion en Postman "
   ]
  },
  {
   "cell_type": "markdown",
   "metadata": {},
   "source": [
    "![alt text](image-5.png)"
   ]
  },
  {
   "cell_type": "markdown",
   "metadata": {},
   "source": [
    "Lista de Dependencias "
   ]
  },
  {
   "cell_type": "markdown",
   "metadata": {},
   "source": [
    "![alt text](image-6.png)"
   ]
  },
  {
   "cell_type": "markdown",
   "metadata": {},
   "source": [
    "Conclusión "
   ]
  },
  {
   "cell_type": "markdown",
   "metadata": {},
   "source": [
    "Este proyecto demuestra cómo desplegar un modelo de Machine Learning como un servicio web, facilitando su integración en aplicaciones externas sin necesidad de acceder al código original del modelo."
   ]
  },
  {
   "cell_type": "markdown",
   "metadata": {},
   "source": [
    "Beneficios clave:\n",
    "\n",
    "Permite realizar predicciones en tiempo real mediante solicitudes HTTP.\n",
    "\n",
    "Facilita la integración con aplicaciones web o móviles.\n",
    "\n",
    "Mejora la reutilización del modelo sin necesidad de reentrenarlo constantemente.\n",
    "\n",
    "Implementa buenas prácticas de monitoreo y registro de eventos."
   ]
  },
  {
   "cell_type": "markdown",
   "metadata": {},
   "source": [
    "El despliegue de modelos con FastAPI es una solución eficiente y escalable para hacer accesibles modelos de Machine Learning en entornos productivos, permitiendo su uso desde cualquier sistema que pueda realizar solicitudes HTTP"
   ]
  }
 ],
 "metadata": {
  "language_info": {
   "name": "python"
  }
 },
 "nbformat": 4,
 "nbformat_minor": 2
}
